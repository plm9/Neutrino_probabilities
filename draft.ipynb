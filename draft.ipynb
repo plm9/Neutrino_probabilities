{
 "cells": [
  {
   "cell_type": "code",
   "execution_count": 11,
   "metadata": {},
   "outputs": [],
   "source": [
    "import numpy as np\n",
    "import matplotlib.pyplot as plt\n",
    "from sympy import *\n",
    "from tqdm import tqdm\n",
    "\n",
    "#Defining symbols\n",
    "s_12=Symbol(\"s_12\",real=True)\n",
    "s_23=Symbol(\"s_23\",real=True)\n",
    "s_13=Symbol(\"s_13\",real=True)\n",
    "\n",
    "c_12=Symbol(\"c_12\",real=True)\n",
    "c_23=Symbol(\"c_23\",real=True)\n",
    "c_13=Symbol(\"c_13\",real=True)\n",
    "\n",
    "d_cp=Symbol(\"d_cp\",real=True)\n",
    "\n",
    "D_m_12=Symbol(\"D_m_12\",real=True)\n",
    "D_m_13=Symbol(\"D_m_13\",real=True)\n",
    "D_m_23=Symbol(\"D_m_23\",real=True)\n",
    "\n",
    "L=Symbol(\"L\",real=True,positive=True)\n",
    "E_nu=Symbol(\"E_nu\",real=True)\n",
    "\n",
    "\n",
    "def PMNS_param_matrix():\n",
    "    m=Matrix([\n",
    "        [c_12*c_13,s_12*c_13,s_13*exp(-d_cp*1j)],\n",
    "        [-s_12*c_23-c_12*s_23*s_13*exp(d_cp*1j),c_12*c_23-s_12*s_23*s_13*exp(d_cp*1j),s_23*c_13],\n",
    "        [s_12*s_23-c_12*c_23*s_13*exp(d_cp*1j),-c_12*s_23-s_12*c_23*s_13*exp(d_cp*1j),c_23*c_13]])\n",
    "\n",
    "    return m\n",
    "\n",
    "PMNS=PMNS_param_matrix()\n",
    "\n",
    "def Prob_a_to_b(a,b):\n",
    "    \"\"\" \n",
    "    Parameters:\n",
    "    a: flavor of the neutrino in the initial state\n",
    "    b: flavor of the neutrino in the final state\n",
    "\n",
    "    Function:\n",
    "    Calculates the probability of a neutrino of flavor a to transform into flavor b, as\n",
    "    a function of the mixing angles ,the mass differences, the distance traveled and the \n",
    "    energy of the neutrino.\n",
    "    \"\"\"\n",
    "    if a == \"e\":\n",
    "        index_a=0\n",
    "    elif a == \"mu\":\n",
    "        index_a=1\n",
    "    elif a == \"tau\":\n",
    "        index_a=2\n",
    "    else:\n",
    "        raise ValueError(\"Non existing neutrino flavor for initial state.\")\n",
    "    \n",
    "    if b == \"e\":\n",
    "        index_b=0\n",
    "    elif b == \"mu\":\n",
    "        index_b=1\n",
    "    elif b == \"tau\":\n",
    "        index_b=2\n",
    "    else:\n",
    "        raise ValueError(\"Non existing neutrino flavor for final state.\")\n",
    "\n",
    "    f=PMNS[index_b,0]*conjugate(PMNS[index_a,0])*PMNS[index_a,1]*conjugate(PMNS[index_b,1])\n",
    "    s=PMNS[index_b,0]*conjugate(PMNS[index_a,0])*PMNS[index_a,2]*conjugate(PMNS[index_b,2])\n",
    "    t=PMNS[index_b,1]*conjugate(PMNS[index_a,1])*PMNS[index_a,2]*conjugate(PMNS[index_b,2])\n",
    "\n",
    "    first=re(f)*sin((D_m_12*L)/(4*E_nu))**2\n",
    "    second=re(s)*sin((D_m_13*L)/(4*E_nu))**2\n",
    "    third=re(t)*sin((D_m_23*L)/(4*E_nu))**2\n",
    "\n",
    "    if a==b:\n",
    "        return 1-4*(first+second+third)\n",
    "    else:\n",
    "        return -4*(first+second+third)\n",
    "\n",
    "\n",
    "\"\"\" \n",
    "These functions are returning the sin and the cos respectively of the mixing angles.\n",
    "\"\"\"\n",
    "#The values where taken from the JUNO physics book\n",
    "def s_ij(i,j):\n",
    "    if (i==1 and j==2) or (i==2 and j==1):\n",
    "        return 0.302**(1/2)\n",
    "    elif (i==1 and j==3) or (i==3 and j==1):\n",
    "        return 0.0227**(1/2)\n",
    "    elif (i==2 and j==3) or (i==3 and j==2):\n",
    "        return 0.413**(1/2)\n",
    "    elif (i==j):\n",
    "        raise ValueError(\"Not mixing! i=j\")\n",
    "    else:\n",
    "        raise ValueError(\"Not excisting eigenstates! Must be 1,2 or 3.\")\n",
    "\n",
    "def c_ij(i,j):\n",
    "    return (1-(s_ij(i,j)**2))**(1/2)\n",
    "\n",
    "delta_cp=300\n",
    "\n",
    "#Defining the possible flavors as strings\n",
    "e=\"e\"\n",
    "mu=\"mu\"\n",
    "tau=\"tau\"\n",
    "\n",
    "#flavors=[e,mu,tau]\n",
    "flavors=[e]\n",
    "\n",
    "\n"
   ]
  },
  {
   "cell_type": "code",
   "execution_count": 53,
   "metadata": {},
   "outputs": [
    {
     "name": "stderr",
     "output_type": "stream",
     "text": [
      "  0%|          | 0/1 [00:00<?, ?it/s]"
     ]
    },
    {
     "name": "stdout",
     "output_type": "stream",
     "text": [
      "Calculation for e to e started!\n"
     ]
    },
    {
     "name": "stderr",
     "output_type": "stream",
     "text": []
    },
    {
     "name": "stdout",
     "output_type": "stream",
     "text": [
      "Calculation for e to mu started!\n"
     ]
    },
    {
     "name": "stderr",
     "output_type": "stream",
     "text": [
      "100%|██████████| 2/2 [10:08<00:00, 304.21s/it]\n",
      "100%|██████████| 1/1 [10:08<00:00, 608.44s/it]\n"
     ]
    }
   ],
   "source": [
    "#These variables are used fot the plots\n",
    "dist=np.arange(0,13000,1)\n",
    "\n",
    "eneg_range_1=np.arange(0.001,0.1,0.00001)\n",
    "eneg_range_2=np.arange(0.1,10,0.001)    \n",
    "\n",
    "list_of_all=[]\n",
    "\n",
    "#Calculating the probabilities for all flavors\n",
    "for a in tqdm(flavors):\n",
    "    for b in tqdm([e,mu]):\n",
    "        #Replacing sin and cos by their values known from experiments\n",
    "        Equation=Prob_a_to_b(a,b).subs([(s_12,s_ij(1,2)),(c_12,c_ij(1,2)),(c_13,c_ij(1,3)),(c_23,c_ij(2,3)),(s_13,s_ij(1,3)),(s_23,s_ij(2,3)),(d_cp,delta_cp)])\n",
    "\n",
    "        #Creating different equation for different values of energy\n",
    "        eq_1_E=Equation.subs([(D_m_12,7.5*10**(-5)),(D_m_23,2.427*10**(-3)),(D_m_13,2.427*10**(-3)+7.5*10**(-5)),(E_nu,10)])\n",
    "        eq_2_E=Equation.subs([(D_m_12,7.5*10**(-5)),(D_m_23,2.427*10**(-3)),(D_m_13,2.427*10**(-3)+7.5*10**(-5)),(E_nu,1)])\n",
    "        eq_3_E=Equation.subs([(D_m_12,7.5*10**(-5)),(D_m_23,2.427*10**(-3)),(D_m_13,2.427*10**(-3)+7.5*10**(-5)),(E_nu,0.1)]) \n",
    "\n",
    "        #Creating different equation for different distances\n",
    "        eq_1_d=Equation.subs([(D_m_12,7.5*10**(-5)),(D_m_23,2.427*10**(-3)),(D_m_13,2.427*10**(-3)+7.5*10**(-5)),(L,15)])\n",
    "        eq_2_d=Equation.subs([(D_m_12,7.5*10**(-5)),(D_m_23,2.427*10**(-3)),(D_m_13,2.427*10**(-3)+7.5*10**(-5)),(L,13000)]) \n",
    "\n",
    "        to_plot_1_E=np.zeros(len(dist))\n",
    "        to_plot_2_E=np.zeros(len(dist))\n",
    "        to_plot_3_E=np.zeros(len(dist))\n",
    "\n",
    "        to_plot_1_d=np.zeros(len(eneg_range_1)+len(eneg_range_2))\n",
    "        to_plot_2_d=np.zeros(len(eneg_range_1)+len(eneg_range_2))\n",
    "\n",
    "        print(\"Calculation for \"+a+\" to \"+b+\" started!\")\n",
    "        #print(\"Calculation for the function of distance for \"+a+\" to \"+b+\" started!\")\n",
    "        for i,l in enumerate(dist):\n",
    "            to_plot_1_E[i]=(eq_1_E.subs([(L,l)]))\n",
    "            to_plot_2_E[i]=(eq_2_E.subs([(L,l)]))\n",
    "            to_plot_3_E[i]=(eq_3_E.subs([(L,l)]))\n",
    "        #print(\"Distance Done!\")\n",
    "\n",
    "\n",
    "        #print(\"Calculation for the function of energy for \"+a+\" to \"+b+\" started!\")\n",
    "        for j,n in enumerate(eneg_range_1):\n",
    "            to_plot_1_d[j]=(eq_1_d.subs([(E_nu,n)]))\n",
    "            to_plot_2_d[j]=(eq_2_d.subs([(E_nu,n)]))\n",
    "        #print(\"First Done!\")\n",
    "        for j,n in enumerate(eneg_range_2):\n",
    "            to_plot_1_d[len(eneg_range_1)+j]=(eq_1_d.subs([(E_nu,n)]))\n",
    "            to_plot_2_d[len(eneg_range_1)+j]=(eq_2_d.subs([(E_nu,n)]))\n",
    "        #print(\"Second Done!\")\n",
    "        #print(\"Done!\")\n",
    "        \n",
    "        title=\"P(nu_\"+a+\"->nu_\"+b+\")\" \n",
    "\n",
    "        to_append=np.array([title,to_plot_1_E,to_plot_2_E,to_plot_3_E,to_plot_1_d,to_plot_2_d],dtype=object)\n",
    "        list_of_all.append(to_append)"
   ]
  },
  {
   "cell_type": "code",
   "execution_count": 37,
   "metadata": {},
   "outputs": [],
   "source": [
    "theta_12=Symbol(\"theta_12\")\n",
    "theta_23=Symbol(\"theta_23\")\n",
    "theta_13=Symbol(\"theta_13\")"
   ]
  },
  {
   "cell_type": "code",
   "execution_count": 38,
   "metadata": {},
   "outputs": [
    {
     "data": {
      "text/latex": [
       "$\\displaystyle - 4 \\sin^{2}{\\left(\\theta_{12} \\right)} \\sin^{2}{\\left(\\theta_{13} \\right)} \\sin^{2}{\\left(\\frac{D_{m 23} L}{4 E_{\\nu}} \\right)} \\cos^{2}{\\left(\\theta_{13} \\right)} - 4 \\sin^{2}{\\left(\\theta_{12} \\right)} \\sin^{2}{\\left(\\frac{D_{m 12} L}{4 E_{\\nu}} \\right)} \\cos^{2}{\\left(\\theta_{12} \\right)} \\cos^{4}{\\left(\\theta_{13} \\right)} - 4 \\sin^{2}{\\left(\\theta_{13} \\right)} \\sin^{2}{\\left(\\frac{D_{m 13} L}{4 E_{\\nu}} \\right)} \\cos^{2}{\\left(\\theta_{12} \\right)} \\cos^{2}{\\left(\\theta_{13} \\right)} + 1$"
      ],
      "text/plain": [
       "-4*sin(theta_12)**2*sin(theta_13)**2*sin(D_m_23*L/(4*E_nu))**2*cos(theta_13)**2 - 4*sin(theta_12)**2*sin(D_m_12*L/(4*E_nu))**2*cos(theta_12)**2*cos(theta_13)**4 - 4*sin(theta_13)**2*sin(D_m_13*L/(4*E_nu))**2*cos(theta_12)**2*cos(theta_13)**2 + 1"
      ]
     },
     "execution_count": 38,
     "metadata": {},
     "output_type": "execute_result"
    }
   ],
   "source": [
    "simplify(Prob_a_to_b(e,e).subs([(s_12,sin(theta_12)),(c_12,cos(theta_12)),(c_13,cos(theta_13)),(c_23,cos(theta_23)),(s_13,sin(theta_13)),(s_23,sin(theta_23))]))"
   ]
  },
  {
   "cell_type": "code",
   "execution_count": 28,
   "metadata": {},
   "outputs": [
    {
     "data": {
      "text/plain": [
       "'P(nu_mu->nu_mu)'"
      ]
     },
     "execution_count": 28,
     "metadata": {},
     "output_type": "execute_result"
    }
   ],
   "source": [
    "list_of_all[3][0]"
   ]
  },
  {
   "cell_type": "markdown",
   "metadata": {},
   "source": [
    "### 1,2 AND 4 are for energy and 5 and 6 are for distance"
   ]
  },
  {
   "cell_type": "code",
   "execution_count": 51,
   "metadata": {},
   "outputs": [
    {
     "data": {
      "image/png": "[encoded data removed]",
      "text/plain": [
       "<Figure size 576x432 with 1 Axes>"
      ]
     },
     "metadata": {
      "needs_background": "light"
     },
     "output_type": "display_data"
    },
    {
     "data": {
      "image/png": "[encoded data removed]",
      "text/plain": [
       "<Figure size 576x432 with 1 Axes>"
      ]
     },
     "metadata": {
      "needs_background": "light"
     },
     "output_type": "display_data"
    },
    {
     "data": {
      "image/png": "[encoded data removed]",
      "text/plain": [
       "<Figure size 576x432 with 1 Axes>"
      ]
     },
     "metadata": {
      "needs_background": "light"
     },
     "output_type": "display_data"
    },
    {
     "data": {
      "image/png": "[encoded data removed]",
      "text/plain": [
       "<Figure size 576x432 with 1 Axes>"
      ]
     },
     "metadata": {
      "needs_background": "light"
     },
     "output_type": "display_data"
    }
   ],
   "source": [
    "for type in list_of_all:\n",
    "    \"\"\" if type[0]==\"P(nu_e->nu_e)\" or type[0]==\"P(nu_mu->nu_mu)\":\n",
    "        plt.figure(figsize=(8,6))\n",
    "        plt.title(type[0]+\" vs Disatnce\")\n",
    "        plt.plot(dist,[1+i for i in type[1]],label=r\"$E_{\\nu}=10$ MeV\")\n",
    "        plt.plot(dist,[1+i for i in type[2]],label=r\"$E_{\\nu}=100$ MeV\")\n",
    "        plt.plot(dist,[1+i for i in type[4]],label=r\"$E_{\\nu}=1$ GeV\")\n",
    "        plt.legend()\n",
    "        plt.ylim(0,1.1)\n",
    "\n",
    "        plt.figure(figsize=(8,6))\n",
    "        plt.title(type[0]+\" vs Energy\")\n",
    "        plt.xscale(\"log\")\n",
    "        plt.plot(np.concatenate([eneg_range_1,eneg_range_2]),[1+i for i in type[5]],label=\"13000 km\")\n",
    "        plt.plot(np.concatenate([eneg_range_1,eneg_range_2]),[1+i for i in type[6]],label=\"15 km\")\n",
    "        plt.legend()\n",
    "        plt.ylim(0,1.1)\n",
    "    else: \"\"\"\n",
    "\n",
    "    plt.figure(figsize=(8,6))\n",
    "    plt.title(type[0]+\" vs Disatnce\")\n",
    "    plt.plot(dist,type[1],label=r\"$E_{\\nu}=10$ GeV\")\n",
    "    plt.plot(dist,type[2],label=r\"$E_{\\nu}=1$ GeV\")\n",
    "    plt.plot(dist,type[3],label=r\"$E_{\\nu}=100$ MeV\")\n",
    "    plt.legend()\n",
    "    plt.ylim(0,1.1)\n",
    "\n",
    "    plt.figure(figsize=(8,6))\n",
    "    plt.title(type[0]+\" vs Energy\")\n",
    "    plt.xscale(\"log\")\n",
    "    plt.plot(np.concatenate([eneg_range_1,eneg_range_2]),type[4],label=\"13000 km\")\n",
    "    plt.plot(np.concatenate([eneg_range_1,eneg_range_2]),type[5],label=\"15 km\")\n",
    "    plt.legend()\n",
    "    plt.ylim(0,1.1)"
   ]
  },
  {
   "cell_type": "code",
   "execution_count": 4,
   "metadata": {},
   "outputs": [],
   "source": [
    "\n",
    "def flavor_to_index(a,b):\n",
    "    if a == \"e\":\n",
    "        index_a=0\n",
    "    elif a == \"mu\":\n",
    "        index_a=1\n",
    "    elif a == \"tau\":\n",
    "        index_a=2\n",
    "    else:\n",
    "        raise ValueError(\"Non existing neutrino flavor for initial state.\")\n",
    "    \n",
    "    if b == \"e\":\n",
    "        index_b=0\n",
    "    elif b == \"mu\":\n",
    "        index_b=1\n",
    "    elif b == \"tau\":\n",
    "        index_b=2\n",
    "    else:\n",
    "        raise ValueError(\"Non existing neutrino flavor for final state.\")\n",
    "    \n",
    "    return index_a,index_b"
   ]
  },
  {
   "cell_type": "code",
   "execution_count": 8,
   "metadata": {},
   "outputs": [],
   "source": [
    "theta_12= 33.45  #degrees\n",
    "theta_23= 42.1   #degrees\n",
    "theta_13= 8.62   #degrees\n",
    "\n",
    "delta_cp= 90    #degrees\n",
    "\n",
    "Dm_21   = 7.42*10**(-5) #eV^2\n",
    "\n",
    "#Normal ordering\n",
    "Dm_31_no= 2.51*10**(-3) #eV^2\n",
    "Dm_32_no= 2.51*10**(-3) #eV^2\n",
    "\n",
    "#Inverse ordering\n",
    "Dm_31_io= -2.49*10**(-3) #eV^2\n",
    "Dm_32_io= -2.49*10**(-3) #eV^2"
   ]
  },
  {
   "cell_type": "code",
   "execution_count": 9,
   "metadata": {},
   "outputs": [],
   "source": [
    "def D_mass(i,j,ordering=\"NO\"): #for ordering: NO is normal ordering and IO inverse ordering\n",
    "    if i==j:\n",
    "        return ValueError(\"Have to find out what to do with that\")\n",
    "    elif i==1:\n",
    "        if j==2:\n",
    "            return -Dm_21\n",
    "        elif j==3:\n",
    "            if ordering==\"NO\":\n",
    "                return -Dm_31_no\n",
    "            else:\n",
    "                return -Dm_31_io\n",
    "    elif i==2 :\n",
    "        if j==1:\n",
    "            return Dm_21\n",
    "        elif j==3:\n",
    "            if ordering==\"NO\":\n",
    "                return -Dm_32_no\n",
    "            else:\n",
    "                return -Dm_32_io\n",
    "    elif i==3:\n",
    "        if j==1:\n",
    "            if ordering==\"NO\":\n",
    "                return Dm_31_no\n",
    "            else:\n",
    "                return Dm_31_io\n",
    "        elif j==2:\n",
    "            if ordering==\"NO\":\n",
    "                return Dm_32_no\n",
    "            else:\n",
    "                return Dm_32_io"
   ]
  },
  {
   "cell_type": "code",
   "execution_count": 12,
   "metadata": {},
   "outputs": [],
   "source": [
    "D_m_21=Symbol(\"D_m_21\",real=True)\n",
    "D_m_31=Symbol(\"D_m_31\",real=True)\n",
    "D_m_32=Symbol(\"D_m_32\",real=True)\n",
    "\n",
    "L=Symbol(\"L\",real=True,positive=True)\n",
    "E_nu=Symbol(\"E_nu\",real=True)\n",
    "\n",
    "def D_mass_param(i,j):\n",
    "    if i==j:\n",
    "        return ValueError(\"Probably 0 but not sure yet...\")\n",
    "    elif i==1:\n",
    "        if j==2:\n",
    "            return -D_m_21\n",
    "        elif j==3:\n",
    "            return -D_m_31\n",
    "    elif i==2 :\n",
    "        if j==1:\n",
    "            return D_m_21\n",
    "        elif j==3:\n",
    "            return -D_m_32\n",
    "    elif i==3:\n",
    "        if j==1:\n",
    "            return D_m_31\n",
    "        elif j==2:            \n",
    "            return D_m_32\n",
    "            "
   ]
  },
  {
   "cell_type": "code",
   "execution_count": 5,
   "metadata": {},
   "outputs": [],
   "source": [
    "def norm(z):\n",
    "    return sqrt(re(z)**2+im(z)**2)"
   ]
  },
  {
   "cell_type": "code",
   "execution_count": 21,
   "metadata": {},
   "outputs": [],
   "source": [
    "def Prob_a_to_b_alt(a,b):\n",
    "    index_a,index_b=flavor_to_index(a,b)\n",
    "\n",
    "    fst_rhs=0\n",
    "    U=PMNS_param_matrix()\n",
    "    for i in [0,1,2]:\n",
    "        fst_rhs+=(norm(U[index_b,i])**2)* norm(U[index_a,i])**2\n",
    "\n",
    "    #print(fst_rhs)\n",
    "\n",
    "    scd_rhs=0\n",
    "    for i in [0,1,2]:\n",
    "        for j in [0,1,2]:\n",
    "            if i>j:\n",
    "                scd_rhs+=U[index_b,i]*conjugate(U[index_a,i])*conjugate(U[index_b,j])*U[index_a,j]*exp((D_mass_param(i+1,j+1))*L/(2*E_nu))\n",
    "\n",
    "    return fst_rhs+(2*re(scd_rhs))"
   ]
  },
  {
   "cell_type": "code",
   "execution_count": 43,
   "metadata": {},
   "outputs": [],
   "source": [
    "thi_12=Symbol(\"thi_12\",real=True)\n",
    "thi_23=Symbol(\"thi_23\",real=True)\n",
    "thi_13=Symbol(\"thi_13\",real=True)"
   ]
  },
  {
   "cell_type": "code",
   "execution_count": 24,
   "metadata": {},
   "outputs": [
    {
     "data": {
      "text/latex": [
       "$\\displaystyle \\frac{\\left(1 - \\cos{\\left(4 thi_{12} \\right)}\\right) \\left(\\cos{\\left(2 thi_{13} \\right)} + 1\\right)^{2} e^{\\frac{D_{m 21} L}{2 E_{\\nu}}}}{16} + 2 e^{\\frac{D_{m 31} L}{2 E_{\\nu}}} \\sin^{2}{\\left(thi_{13} \\right)} \\cos^{2}{\\left(thi_{12} \\right)} \\cos^{2}{\\left(thi_{13} \\right)} + 2 e^{\\frac{D_{m 32} L}{2 E_{\\nu}}} \\sin^{2}{\\left(thi_{12} \\right)} \\sin^{2}{\\left(thi_{13} \\right)} \\cos^{2}{\\left(thi_{13} \\right)} + \\sin^{4}{\\left(thi_{12} \\right)} \\cos^{4}{\\left(thi_{13} \\right)} + 1.0 \\sin^{4}{\\left(thi_{13} \\right)} + \\cos^{4}{\\left(thi_{12} \\right)} \\cos^{4}{\\left(thi_{13} \\right)}$"
      ],
      "text/plain": [
       "(1 - cos(4*thi_12))*(cos(2*thi_13) + 1)**2*exp(D_m_21*L/(2*E_nu))/16 + 2*exp(D_m_31*L/(2*E_nu))*sin(thi_13)**2*cos(thi_12)**2*cos(thi_13)**2 + 2*exp(D_m_32*L/(2*E_nu))*sin(thi_12)**2*sin(thi_13)**2*cos(thi_13)**2 + sin(thi_12)**4*cos(thi_13)**4 + 1.0*sin(thi_13)**4 + cos(thi_12)**4*cos(thi_13)**4"
      ]
     },
     "execution_count": 24,
     "metadata": {},
     "output_type": "execute_result"
    }
   ],
   "source": [
    "trigsimp(Prob_a_to_b_alt(e,e).subs([(s_12,sin(thi_12)),(c_12,cos(thi_12)),(c_13,cos(thi_13)),(c_23,cos(thi_23)),(s_13,sin(thi_13)),(s_23,sin(thi_23)),(d_cp,delta_cp)])) "
   ]
  },
  {
   "cell_type": "code",
   "execution_count": 44,
   "metadata": {},
   "outputs": [],
   "source": [
    "z=exp(-1j*(thi_12-thi_13))"
   ]
  },
  {
   "cell_type": "code",
   "execution_count": 46,
   "metadata": {},
   "outputs": [
    {
     "data": {
      "text/plain": [
       "True"
      ]
     },
     "execution_count": 46,
     "metadata": {},
     "output_type": "execute_result"
    }
   ],
   "source": [
    "norm(z)==norm(conjugate(z))"
   ]
  },
  {
   "cell_type": "code",
   "execution_count": 11,
   "metadata": {},
   "outputs": [
    {
     "ename": "ImportError",
     "evalue": "cannot import name 'PMNS_param_matrix' from 'my_functions' (d:\\apatsias\\M1-Bonn\\RWTH\\code\\my_functions.py)",
     "output_type": "error",
     "traceback": [
      "\u001b[1;31m---------------------------------------------------------------------------\u001b[0m",
      "\u001b[1;31mImportError\u001b[0m                               Traceback (most recent call last)",
      "\u001b[1;32m<ipython-input-11-8404409faffa>\u001b[0m in \u001b[0;36m<module>\u001b[1;34m\u001b[0m\n\u001b[1;32m----> 1\u001b[1;33m \u001b[1;32mfrom\u001b[0m \u001b[0mmy_functions\u001b[0m \u001b[1;32mimport\u001b[0m \u001b[0mPMNS_param_matrix\u001b[0m\u001b[1;33m\u001b[0m\u001b[1;33m\u001b[0m\u001b[0m\n\u001b[0m",
      "\u001b[1;31mImportError\u001b[0m: cannot import name 'PMNS_param_matrix' from 'my_functions' (d:\\apatsias\\M1-Bonn\\RWTH\\code\\my_functions.py)"
     ]
    }
   ],
   "source": [
    "from my_functions import PMNS_param_matrix"
   ]
  },
  {
   "cell_type": "code",
   "execution_count": 14,
   "metadata": {},
   "outputs": [
    {
     "ename": "ImportError",
     "evalue": "cannot import name 'Prob_a_to_b_General' from 'my_functions' (d:\\apatsias\\M1-Bonn\\RWTH\\code\\my_functions.py)",
     "output_type": "error",
     "traceback": [
      "\u001b[1;31m---------------------------------------------------------------------------\u001b[0m",
      "\u001b[1;31mImportError\u001b[0m                               Traceback (most recent call last)",
      "\u001b[1;32m<ipython-input-14-58371588a5c6>\u001b[0m in \u001b[0;36m<module>\u001b[1;34m\u001b[0m\n\u001b[1;32m----> 1\u001b[1;33m \u001b[1;32mfrom\u001b[0m \u001b[0mmy_functions\u001b[0m \u001b[1;32mimport\u001b[0m \u001b[0mProb_a_to_b_General\u001b[0m\u001b[1;33m\u001b[0m\u001b[1;33m\u001b[0m\u001b[0m\n\u001b[0m",
      "\u001b[1;31mImportError\u001b[0m: cannot import name 'Prob_a_to_b_General' from 'my_functions' (d:\\apatsias\\M1-Bonn\\RWTH\\code\\my_functions.py)"
     ]
    }
   ],
   "source": [
    "from my_functions import Prob_a_to_b_General"
   ]
  },
  {
   "cell_type": "code",
   "execution_count": 15,
   "metadata": {},
   "outputs": [
    {
     "ename": "NameError",
     "evalue": "name 'Prob_a_to_b_General' is not defined",
     "output_type": "error",
     "traceback": [
      "\u001b[1;31m---------------------------------------------------------------------------\u001b[0m",
      "\u001b[1;31mNameError\u001b[0m                                 Traceback (most recent call last)",
      "\u001b[1;32m<ipython-input-15-653724520ec3>\u001b[0m in \u001b[0;36m<module>\u001b[1;34m\u001b[0m\n\u001b[0;32m      1\u001b[0m \u001b[1;32mfrom\u001b[0m \u001b[0mmy_functions\u001b[0m \u001b[1;32mimport\u001b[0m \u001b[1;33m*\u001b[0m\u001b[1;33m\u001b[0m\u001b[1;33m\u001b[0m\u001b[0m\n\u001b[0;32m      2\u001b[0m \u001b[1;33m\u001b[0m\u001b[0m\n\u001b[1;32m----> 3\u001b[1;33m \u001b[0mnormal\u001b[0m\u001b[1;33m=\u001b[0m\u001b[0mProb_a_to_b_General\u001b[0m\u001b[1;33m(\u001b[0m\u001b[1;34m\"e\"\u001b[0m\u001b[1;33m,\u001b[0m\u001b[1;34m\"mu\"\u001b[0m\u001b[1;33m,\u001b[0m\u001b[1;34m\"normal\"\u001b[0m\u001b[1;33m)\u001b[0m\u001b[1;33m\u001b[0m\u001b[1;33m\u001b[0m\u001b[0m\n\u001b[0m\u001b[0;32m      4\u001b[0m \u001b[0manti\u001b[0m\u001b[1;33m=\u001b[0m\u001b[0mProb_a_to_b_General\u001b[0m\u001b[1;33m(\u001b[0m\u001b[1;34m\"e\"\u001b[0m\u001b[1;33m,\u001b[0m\u001b[1;34m\"mu\"\u001b[0m\u001b[1;33m,\u001b[0m\u001b[1;34m\"anti\"\u001b[0m\u001b[1;33m)\u001b[0m\u001b[1;33m\u001b[0m\u001b[1;33m\u001b[0m\u001b[0m\n\u001b[0;32m      5\u001b[0m \u001b[1;33m\u001b[0m\u001b[0m\n",
      "\u001b[1;31mNameError\u001b[0m: name 'Prob_a_to_b_General' is not defined"
     ]
    }
   ],
   "source": [
    "from my_functions import *\n",
    "\n",
    "normal=Prob_a_to_b_General(\"e\",\"mu\",\"normal\")\n",
    "anti=Prob_a_to_b_General(\"e\",\"mu\",\"anti\")\n",
    "\n",
    "print(\"Prob of normal:\",normal)\n",
    "print(\"Prob of anti:\",anti)\n",
    "\n",
    "print(\"Difference of the two:\",normal-anti)\n"
   ]
  },
  {
   "cell_type": "code",
   "execution_count": 1,
   "metadata": {},
   "outputs": [],
   "source": [
    "a=3"
   ]
  },
  {
   "cell_type": "code",
   "execution_count": 4,
   "metadata": {},
   "outputs": [
    {
     "name": "stdout",
     "output_type": "stream",
     "text": [
      "3 is this changed to str?\n"
     ]
    }
   ],
   "source": [
    "print(str(a)+\" is this changed to str?\")"
   ]
  },
  {
   "cell_type": "code",
   "execution_count": 10,
   "metadata": {},
   "outputs": [],
   "source": [
    "z=1"
   ]
  },
  {
   "cell_type": "code",
   "execution_count": 11,
   "metadata": {},
   "outputs": [
    {
     "data": {
      "text/plain": [
       "1"
      ]
     },
     "execution_count": 11,
     "metadata": {},
     "output_type": "execute_result"
    }
   ],
   "source": [
    "z.conjugate()"
   ]
  }
 ],
 "metadata": {
  "kernelspec": {
   "display_name": "Python 3.8.5 ('CompPhys')",
   "language": "python",
   "name": "python3"
  },
  "language_info": {
   "codemirror_mode": {
    "name": "ipython",
    "version": 3
   },
   "file_extension": ".py",
   "mimetype": "text/x-python",
   "name": "python",
   "nbconvert_exporter": "python",
   "pygments_lexer": "ipython3",
   "version": "3.8.5"
  },
  "orig_nbformat": 4,
  "vscode": {
   "interpreter": {
    "hash": "4bd90250ce593ec5de9f33bf1e59b27003ca404923da0f201901614a442c8443"
   }
  }
 },
 "nbformat": 4,
 "nbformat_minor": 2
}
